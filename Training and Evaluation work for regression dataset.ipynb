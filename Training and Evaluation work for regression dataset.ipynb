{
 "cells": [
  {
   "cell_type": "markdown",
   "metadata": {},
   "source": [
    "Task 1: Load and Split Preprocessed Data"
   ]
  },
  {
   "cell_type": "code",
   "execution_count": 37,
   "metadata": {},
   "outputs": [
    {
     "name": "stderr",
     "output_type": "stream",
     "text": [
      "e:\\2023-phrase-2 data science Dan WEI\\venv\\Lib\\site-packages\\sklearn\\preprocessing\\_encoders.py:972: FutureWarning: `sparse` was renamed to `sparse_output` in version 1.2 and will be removed in 1.4. `sparse_output` is ignored unless you leave `sparse` to its default value.\n",
      "  warnings.warn(\n"
     ]
    }
   ],
   "source": [
    "import pandas as pd\n",
    "from sklearn.model_selection import train_test_split\n",
    "from sklearn.linear_model import LinearRegression\n",
    "from sklearn.metrics import mean_squared_error,r2_score\n",
    "from sklearn.preprocessing import OneHotEncoder\n",
    "from sklearn.impute import SimpleImputer\n",
    "\n",
    "# Load the data from the CSV file\n",
    "data = pd.read_csv('exam_scores.csv')\n",
    "\n",
    "# Define the target variable\n",
    "target_variable = 'MathScore'  # Choose the target variable (MathScore, ReadingScore, or WritingScore)\n",
    "\n",
    "# Drop rows with missing values in the target variable\n",
    "data.dropna(subset=[target_variable], inplace=True)\n",
    "\n",
    "# Drop unnecessary columns and target variable\n",
    "features = data.drop(columns=[target_variable])\n",
    "\n",
    "# One-hot encode categorical variables\n",
    "categorical_cols = ['Gender', 'EthnicGroup', 'ParentEduc', 'LunchType', 'TestPrep', 'ParentMaritalStatus', 'PracticeSport', 'IsFirstChild', 'TransportMeans', 'WklyStudyHours']\n",
    "encoder = OneHotEncoder(drop='first', sparse=False)\n",
    "encoded_features = pd.DataFrame(encoder.fit_transform(features[categorical_cols]))\n",
    "\n",
    "# Assign column names to encoded features\n",
    "encoded_feature_names = encoder.get_feature_names_out(categorical_cols)\n",
    "encoded_features.columns = encoded_feature_names\n",
    "\n",
    "# Concatenate encoded features with numerical features\n",
    "preprocessed_data = pd.concat([encoded_features, features.drop(columns=categorical_cols)], axis=1)\n",
    "\n",
    "# Handle missing values\n",
    "imputer = SimpleImputer(strategy='mean')\n",
    "preprocessed_data = pd.DataFrame(imputer.fit_transform(preprocessed_data), columns=preprocessed_data.columns)\n",
    "\n",
    "# Define the target variable\n",
    "target = data[target_variable]\n",
    "\n",
    "# Split the data into training and test sets (70% training, 30% testing)\n",
    "X_train, X_test, y_train, y_test = train_test_split(preprocessed_data, target, test_size=0.3, random_state=42)"
   ]
  },
  {
   "cell_type": "markdown",
   "metadata": {},
   "source": [
    "Task 2: Choose an Algorithm\n",
    "\n",
    "Linear regression is a simple and widely used algorithm for regression tasks. It aims to find the linear relationship between the independent variables (features) and the dependent variable (target). The algorithm estimates the coefficients of the linear equation that minimizes the sum of squared differences between the predicted and actual target values."
   ]
  },
  {
   "cell_type": "markdown",
   "metadata": {},
   "source": [
    "Task 3: Train and Test a Mode"
   ]
  },
  {
   "cell_type": "code",
   "execution_count": 38,
   "metadata": {},
   "outputs": [],
   "source": [
    "# Train the linear regression model\n",
    "model = LinearRegression()\n",
    "model.fit(X_train, y_train)\n",
    "\n",
    "# Test the model on the test set\n",
    "y_pred = model.predict(X_test)\n"
   ]
  },
  {
   "cell_type": "markdown",
   "metadata": {},
   "source": [
    "Task 4: Evaluate the Model"
   ]
  },
  {
   "cell_type": "code",
   "execution_count": 39,
   "metadata": {},
   "outputs": [
    {
     "name": "stdout",
     "output_type": "stream",
     "text": [
      "Mean Squared Error: 29.779818462250265\n",
      "R-squared: 0.873855802089955\n"
     ]
    }
   ],
   "source": [
    "# Calculate the mean squared error (MSE)\n",
    "mse = mean_squared_error(y_test, y_pred)\n",
    "print(f\"Mean Squared Error: {mse}\")\n",
    "\n",
    "# Calculate the coefficient of determination (R-squared)\n",
    "r2 = r2_score(y_test, y_pred)\n",
    "print(f\"R-squared: {r2}\")"
   ]
  },
  {
   "cell_type": "markdown",
   "metadata": {},
   "source": [
    "Task 5: Summary\n",
    "\n",
    "The steps taken to train and evaluate the models involve loading and splitting the preprocessed data, choosing the linear regression algorithm, training the model on the training set, testing the model on the test set, and evaluating the model using mean squared error (MSE).\n",
    "\n",
    "During training and evaluation, it's important to note the coefficients of the linear regression model. These coefficients represent the estimated impact of each feature on the target variable. By examining the coefficients, you can identify which features have a significant influence on the target variable and the direction of that influence (positive or negative).\n",
    "\n",
    "Additionally, analyzing the MSE helps us understand the model's accuracy in predicting the target variable. A lower MSE indicates that the model's predictions are closer to the actual target values, suggesting better performance."
   ]
  }
 ],
 "metadata": {
  "kernelspec": {
   "display_name": "venv",
   "language": "python",
   "name": "python3"
  },
  "language_info": {
   "codemirror_mode": {
    "name": "ipython",
    "version": 3
   },
   "file_extension": ".py",
   "mimetype": "text/x-python",
   "name": "python",
   "nbconvert_exporter": "python",
   "pygments_lexer": "ipython3",
   "version": "3.11.2"
  },
  "orig_nbformat": 4
 },
 "nbformat": 4,
 "nbformat_minor": 2
}
